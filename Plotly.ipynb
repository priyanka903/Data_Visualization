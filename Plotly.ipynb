{
 "cells": [
  {
   "cell_type": "code",
   "execution_count": 2,
   "id": "2d7ce9c6",
   "metadata": {},
   "outputs": [
    {
     "name": "stdout",
     "output_type": "stream",
     "text": [
      "Requirement already satisfied: Plotly in c:\\users\\priyaa\\anaconda3\\lib\\site-packages (5.9.0)Note: you may need to restart the kernel to use updated packages.\n",
      "\n",
      "Requirement already satisfied: tenacity>=6.2.0 in c:\\users\\priyaa\\anaconda3\\lib\\site-packages (from Plotly) (8.2.2)\n"
     ]
    }
   ],
   "source": [
    "pip install Plotly"
   ]
  },
  {
   "cell_type": "code",
   "execution_count": 3,
   "id": "9d180ad9",
   "metadata": {},
   "outputs": [
    {
     "name": "stdout",
     "output_type": "stream",
     "text": [
      "Collecting CufflinksNote: you may need to restart the kernel to use updated packages.\n",
      "\n",
      "  Downloading cufflinks-0.17.3.tar.gz (81 kB)\n",
      "     ---------------------------------------- 0.0/81.7 kB ? eta -:--:--\n",
      "     ---------------------------------------- 81.7/81.7 kB 2.3 MB/s eta 0:00:00\n",
      "  Preparing metadata (setup.py): started\n",
      "  Preparing metadata (setup.py): finished with status 'done'\n",
      "Requirement already satisfied: numpy>=1.9.2 in c:\\users\\priyaa\\anaconda3\\lib\\site-packages (from Cufflinks) (1.24.3)\n",
      "Requirement already satisfied: pandas>=0.19.2 in c:\\users\\priyaa\\anaconda3\\lib\\site-packages (from Cufflinks) (2.0.3)\n",
      "Requirement already satisfied: plotly>=4.1.1 in c:\\users\\priyaa\\anaconda3\\lib\\site-packages (from Cufflinks) (5.9.0)\n",
      "Requirement already satisfied: six>=1.9.0 in c:\\users\\priyaa\\anaconda3\\lib\\site-packages (from Cufflinks) (1.16.0)\n",
      "Collecting colorlover>=0.2.1 (from Cufflinks)\n",
      "  Downloading colorlover-0.3.0-py3-none-any.whl (8.9 kB)\n",
      "Requirement already satisfied: setuptools>=34.4.1 in c:\\users\\priyaa\\anaconda3\\lib\\site-packages (from Cufflinks) (68.0.0)\n",
      "Requirement already satisfied: ipython>=5.3.0 in c:\\users\\priyaa\\anaconda3\\lib\\site-packages (from Cufflinks) (8.12.0)\n",
      "Requirement already satisfied: ipywidgets>=7.0.0 in c:\\users\\priyaa\\anaconda3\\lib\\site-packages (from Cufflinks) (8.0.4)\n",
      "Requirement already satisfied: backcall in c:\\users\\priyaa\\anaconda3\\lib\\site-packages (from ipython>=5.3.0->Cufflinks) (0.2.0)\n",
      "Requirement already satisfied: decorator in c:\\users\\priyaa\\anaconda3\\lib\\site-packages (from ipython>=5.3.0->Cufflinks) (5.1.1)\n",
      "Requirement already satisfied: jedi>=0.16 in c:\\users\\priyaa\\anaconda3\\lib\\site-packages (from ipython>=5.3.0->Cufflinks) (0.18.1)\n",
      "Requirement already satisfied: matplotlib-inline in c:\\users\\priyaa\\anaconda3\\lib\\site-packages (from ipython>=5.3.0->Cufflinks) (0.1.6)\n",
      "Requirement already satisfied: pickleshare in c:\\users\\priyaa\\anaconda3\\lib\\site-packages (from ipython>=5.3.0->Cufflinks) (0.7.5)\n",
      "Requirement already satisfied: prompt-toolkit!=3.0.37,<3.1.0,>=3.0.30 in c:\\users\\priyaa\\anaconda3\\lib\\site-packages (from ipython>=5.3.0->Cufflinks) (3.0.36)\n",
      "Requirement already satisfied: pygments>=2.4.0 in c:\\users\\priyaa\\anaconda3\\lib\\site-packages (from ipython>=5.3.0->Cufflinks) (2.15.1)\n",
      "Requirement already satisfied: stack-data in c:\\users\\priyaa\\anaconda3\\lib\\site-packages (from ipython>=5.3.0->Cufflinks) (0.2.0)\n",
      "Requirement already satisfied: traitlets>=5 in c:\\users\\priyaa\\anaconda3\\lib\\site-packages (from ipython>=5.3.0->Cufflinks) (5.7.1)\n",
      "Requirement already satisfied: colorama in c:\\users\\priyaa\\anaconda3\\lib\\site-packages (from ipython>=5.3.0->Cufflinks) (0.4.6)\n",
      "Requirement already satisfied: ipykernel>=4.5.1 in c:\\users\\priyaa\\anaconda3\\lib\\site-packages (from ipywidgets>=7.0.0->Cufflinks) (6.19.2)\n",
      "Requirement already satisfied: widgetsnbextension~=4.0 in c:\\users\\priyaa\\anaconda3\\lib\\site-packages (from ipywidgets>=7.0.0->Cufflinks) (4.0.5)\n",
      "Requirement already satisfied: jupyterlab-widgets~=3.0 in c:\\users\\priyaa\\anaconda3\\lib\\site-packages (from ipywidgets>=7.0.0->Cufflinks) (3.0.5)\n",
      "Requirement already satisfied: python-dateutil>=2.8.2 in c:\\users\\priyaa\\anaconda3\\lib\\site-packages (from pandas>=0.19.2->Cufflinks) (2.8.2)\n",
      "Requirement already satisfied: pytz>=2020.1 in c:\\users\\priyaa\\anaconda3\\lib\\site-packages (from pandas>=0.19.2->Cufflinks) (2022.7)\n",
      "Requirement already satisfied: tzdata>=2022.1 in c:\\users\\priyaa\\anaconda3\\lib\\site-packages (from pandas>=0.19.2->Cufflinks) (2023.3)\n",
      "Requirement already satisfied: tenacity>=6.2.0 in c:\\users\\priyaa\\anaconda3\\lib\\site-packages (from plotly>=4.1.1->Cufflinks) (8.2.2)\n",
      "Requirement already satisfied: comm>=0.1.1 in c:\\users\\priyaa\\anaconda3\\lib\\site-packages (from ipykernel>=4.5.1->ipywidgets>=7.0.0->Cufflinks) (0.1.2)\n",
      "Requirement already satisfied: debugpy>=1.0 in c:\\users\\priyaa\\anaconda3\\lib\\site-packages (from ipykernel>=4.5.1->ipywidgets>=7.0.0->Cufflinks) (1.6.7)\n",
      "Requirement already satisfied: jupyter-client>=6.1.12 in c:\\users\\priyaa\\anaconda3\\lib\\site-packages (from ipykernel>=4.5.1->ipywidgets>=7.0.0->Cufflinks) (7.4.9)\n",
      "Requirement already satisfied: nest-asyncio in c:\\users\\priyaa\\anaconda3\\lib\\site-packages (from ipykernel>=4.5.1->ipywidgets>=7.0.0->Cufflinks) (1.5.6)\n",
      "Requirement already satisfied: packaging in c:\\users\\priyaa\\anaconda3\\lib\\site-packages (from ipykernel>=4.5.1->ipywidgets>=7.0.0->Cufflinks) (23.0)\n",
      "Requirement already satisfied: psutil in c:\\users\\priyaa\\anaconda3\\lib\\site-packages (from ipykernel>=4.5.1->ipywidgets>=7.0.0->Cufflinks) (5.9.0)\n",
      "Requirement already satisfied: pyzmq>=17 in c:\\users\\priyaa\\anaconda3\\lib\\site-packages (from ipykernel>=4.5.1->ipywidgets>=7.0.0->Cufflinks) (23.2.0)\n",
      "Requirement already satisfied: tornado>=6.1 in c:\\users\\priyaa\\anaconda3\\lib\\site-packages (from ipykernel>=4.5.1->ipywidgets>=7.0.0->Cufflinks) (6.3.2)\n",
      "Requirement already satisfied: parso<0.9.0,>=0.8.0 in c:\\users\\priyaa\\anaconda3\\lib\\site-packages (from jedi>=0.16->ipython>=5.3.0->Cufflinks) (0.8.3)\n",
      "Requirement already satisfied: wcwidth in c:\\users\\priyaa\\anaconda3\\lib\\site-packages (from prompt-toolkit!=3.0.37,<3.1.0,>=3.0.30->ipython>=5.3.0->Cufflinks) (0.2.5)\n",
      "Requirement already satisfied: executing in c:\\users\\priyaa\\anaconda3\\lib\\site-packages (from stack-data->ipython>=5.3.0->Cufflinks) (0.8.3)\n",
      "Requirement already satisfied: asttokens in c:\\users\\priyaa\\anaconda3\\lib\\site-packages (from stack-data->ipython>=5.3.0->Cufflinks) (2.0.5)\n",
      "Requirement already satisfied: pure-eval in c:\\users\\priyaa\\anaconda3\\lib\\site-packages (from stack-data->ipython>=5.3.0->Cufflinks) (0.2.2)\n",
      "Requirement already satisfied: entrypoints in c:\\users\\priyaa\\anaconda3\\lib\\site-packages (from jupyter-client>=6.1.12->ipykernel>=4.5.1->ipywidgets>=7.0.0->Cufflinks) (0.4)\n",
      "Requirement already satisfied: jupyter-core>=4.9.2 in c:\\users\\priyaa\\anaconda3\\lib\\site-packages (from jupyter-client>=6.1.12->ipykernel>=4.5.1->ipywidgets>=7.0.0->Cufflinks) (5.3.0)\n",
      "Requirement already satisfied: platformdirs>=2.5 in c:\\users\\priyaa\\anaconda3\\lib\\site-packages (from jupyter-core>=4.9.2->jupyter-client>=6.1.12->ipykernel>=4.5.1->ipywidgets>=7.0.0->Cufflinks) (2.5.2)\n",
      "Requirement already satisfied: pywin32>=300 in c:\\users\\priyaa\\anaconda3\\lib\\site-packages (from jupyter-core>=4.9.2->jupyter-client>=6.1.12->ipykernel>=4.5.1->ipywidgets>=7.0.0->Cufflinks) (305.1)\n",
      "Building wheels for collected packages: Cufflinks\n",
      "  Building wheel for Cufflinks (setup.py): started\n",
      "  Building wheel for Cufflinks (setup.py): finished with status 'done'\n",
      "  Created wheel for Cufflinks: filename=cufflinks-0.17.3-py3-none-any.whl size=68725 sha256=ea9704591a9642d37b09074ee22686a19a85e425ed55f2659e1debe677d02d65\n",
      "  Stored in directory: c:\\users\\priyaa\\appdata\\local\\pip\\cache\\wheels\\c3\\bf\\8f\\afa0730b29e347e8c1071049f89748c1262e7a14a838820ae6\n",
      "Successfully built Cufflinks\n",
      "Installing collected packages: colorlover, Cufflinks\n",
      "Successfully installed Cufflinks-0.17.3 colorlover-0.3.0\n"
     ]
    }
   ],
   "source": [
    "pip install Cufflinks"
   ]
  },
  {
   "cell_type": "code",
   "execution_count": null,
   "id": "787c3643",
   "metadata": {},
   "outputs": [],
   "source": []
  },
  {
   "cell_type": "code",
   "execution_count": null,
   "id": "ada1c995",
   "metadata": {},
   "outputs": [],
   "source": []
  },
  {
   "cell_type": "code",
   "execution_count": null,
   "id": "675684e1",
   "metadata": {},
   "outputs": [],
   "source": []
  },
  {
   "cell_type": "code",
   "execution_count": null,
   "id": "e656408a",
   "metadata": {},
   "outputs": [],
   "source": []
  },
  {
   "cell_type": "code",
   "execution_count": null,
   "id": "49ea4d1d",
   "metadata": {},
   "outputs": [],
   "source": []
  }
 ],
 "metadata": {
  "kernelspec": {
   "display_name": "Python 3 (ipykernel)",
   "language": "python",
   "name": "python3"
  },
  "language_info": {
   "codemirror_mode": {
    "name": "ipython",
    "version": 3
   },
   "file_extension": ".py",
   "mimetype": "text/x-python",
   "name": "python",
   "nbconvert_exporter": "python",
   "pygments_lexer": "ipython3",
   "version": "3.11.4"
  }
 },
 "nbformat": 4,
 "nbformat_minor": 5
}
